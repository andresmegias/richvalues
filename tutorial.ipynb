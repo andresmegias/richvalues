{
 "cells": [
  {
   "cell_type": "markdown",
   "id": "8bb579d6",
   "metadata": {},
   "source": [
    "## Quick tutorial for RichValues"
   ]
  },
  {
   "cell_type": "markdown",
   "id": "17b6bafc",
   "metadata": {},
   "source": [
    "Here you can see how to use the library within a Python script or terminal. For more details, please check the [user guide](https://github.com/andresmegias/richvalues/blob/main/userguide.pdf)."
   ]
  },
  {
   "cell_type": "markdown",
   "id": "d6afe0fb",
   "metadata": {},
   "source": [
    "First of all, we import the library."
   ]
  },
  {
   "cell_type": "code",
   "execution_count": 2,
   "id": "a96d1c29",
   "metadata": {},
   "outputs": [],
   "source": [
    "import richvalues as rv"
   ]
  },
  {
   "cell_type": "markdown",
   "id": "4eb218cc",
   "metadata": {},
   "source": [
    "Let's create two rich values."
   ]
  },
  {
   "cell_type": "code",
   "execution_count": 3,
   "id": "05380989",
   "metadata": {},
   "outputs": [
    {
     "data": {
      "text/plain": [
       "5.2+/-0.4"
      ]
     },
     "execution_count": 3,
     "metadata": {},
     "output_type": "execute_result"
    }
   ],
   "source": [
    "x = rv.rval('5.2 +/- 0.4')\n",
    "y = rv.rval('3.1 -0.4+0.5')\n",
    "x"
   ]
  },
  {
   "cell_type": "markdown",
   "id": "a0cf8981",
   "metadata": {},
   "source": [
    "If you want to specify a domain, you can write it between brackets, for example: `rv.rval('5.2 +/-0.4 [0,inf]')`. You can access to the properties of rich values; for example: `x.main` would return the main value, `5.2`, and `x.unc` would return the inferior and superior uncertainties, `[0.4, 0.4]`. You can also obtain derived properties, like the relative uncertainty, `x.rel_unc`."
   ]
  },
  {
   "cell_type": "code",
   "execution_count": 4,
   "id": "f65fc823",
   "metadata": {},
   "outputs": [
    {
     "data": {
      "text/plain": [
       "5.2"
      ]
     },
     "execution_count": 4,
     "metadata": {},
     "output_type": "execute_result"
    }
   ],
   "source": [
    "x.main"
   ]
  },
  {
   "cell_type": "markdown",
   "id": "23185e41",
   "metadata": {},
   "source": [
    "Now, we can use mathematical operators to perform calculations with these rich values. For example, `x + y` would yield `8.3 +/- 0.6`."
   ]
  },
  {
   "cell_type": "code",
   "execution_count": 5,
   "id": "2a57ddd7",
   "metadata": {
    "scrolled": true
   },
   "outputs": [
    {
     "data": {
      "text/plain": [
       "8.3+/-0.6"
      ]
     },
     "execution_count": 5,
     "metadata": {},
     "output_type": "execute_result"
    }
   ],
   "source": [
    "x+y"
   ]
  },
  {
   "cell_type": "markdown",
   "id": "3ccfe256",
   "metadata": {},
   "source": [
    "Alternatively, you can use `function`, that allows to apply more complicated functions.\n",
    "~~~\n",
    "rv.function('{}+{}', args=[x,y])\n",
    "~~~\n",
    "You just have to write the expression that you want to apply, using empty curly brackets instead of the inputs, which have to be specified in the correct order. The function expression can include other functions; for example, if you imported the NumPy library as `np`, you could write: `rv.function('np.sin({}/{})', [x,y])`."
   ]
  },
  {
   "cell_type": "code",
   "execution_count": 6,
   "id": "2694ed01",
   "metadata": {},
   "outputs": [
    {
     "data": {
      "text/plain": [
       "0.982-0.066+0.016"
      ]
     },
     "execution_count": 6,
     "metadata": {},
     "output_type": "execute_result"
    }
   ],
   "source": [
    "rv.function('np.sin({}/{})', [x,y])"
   ]
  },
  {
   "cell_type": "markdown",
   "id": "a0e299e8",
   "metadata": {},
   "source": [
    "Now, let's see how to create rich arrays (based on NumPy arrays)."
   ]
  },
  {
   "cell_type": "code",
   "execution_count": 7,
   "id": "595d2203",
   "metadata": {},
   "outputs": [
    {
     "data": {
      "text/plain": [
       "RichArray([1.2+/-0.4, 2.1-0.3+0.4, 5.8+/-0.9], dtype=object)"
      ]
     },
     "execution_count": 7,
     "metadata": {},
     "output_type": "execute_result"
    }
   ],
   "source": [
    "u = rv.rarray(['1.2 +/- 0.4', '2.1-0.3+0.4', '5.8 +/-0.9'])\n",
    "v = rv.rarray(['8 +/- 3', '16+/-4', '< 21'])\n",
    "u"
   ]
  },
  {
   "cell_type": "markdown",
   "id": "9b546a5c",
   "metadata": {},
   "source": [
    "The domain can be specified with the `domain` argument. Alternatively, you can create rich arrays from arrays that contain the main values, the uncertainties, and the rest of variables."
   ]
  },
  {
   "cell_type": "code",
   "execution_count": 20,
   "id": "ad272be9",
   "metadata": {},
   "outputs": [
    {
     "data": {
      "text/plain": [
       "RichArray([1.2+/-0.4, 2.1-0.3+0.4, 5.8+/-0.9], dtype=object)"
      ]
     },
     "execution_count": 20,
     "metadata": {},
     "output_type": "execute_result"
    }
   ],
   "source": [
    "mains = [1.2, 2.1, 5.8]\n",
    "uncs = [[0.4, 0.4], [-0.3, 0.4], [0.9, 0.9]]\n",
    "u = rv.RichArray(mains, uncs, domains=[0,rv.inf])\n",
    "u"
   ]
  },
  {
   "cell_type": "markdown",
   "id": "216c67af",
   "metadata": {},
   "source": [
    "As with individual rich values, you can access to different properties; for example, u.mains would return the main values, [8., 21.]."
   ]
  },
  {
   "cell_type": "code",
   "execution_count": 15,
   "id": "e2dc9009",
   "metadata": {},
   "outputs": [
    {
     "data": {
      "text/plain": [
       "array([1.2, 2.1, 5.8])"
      ]
     },
     "execution_count": 15,
     "metadata": {},
     "output_type": "execute_result"
    }
   ],
   "source": [
    "u.mains"
   ]
  },
  {
   "cell_type": "markdown",
   "id": "6b30d5cc",
   "metadata": {},
   "source": [
    "You can use arithmetic operators as well to perform calculations; for example, `u*v` would yield `[9-4+5, < 150]`."
   ]
  },
  {
   "cell_type": "code",
   "execution_count": 31,
   "id": "207bde5b",
   "metadata": {},
   "outputs": [
    {
     "data": {
      "text/plain": [
       "RichArray([9-4+6, 33-9+11, < 150], dtype=object)"
      ]
     },
     "execution_count": 31,
     "metadata": {},
     "output_type": "execute_result"
    }
   ],
   "source": [
    "u*v"
   ]
  },
  {
   "cell_type": "markdown",
   "id": "6163f345",
   "metadata": {},
   "source": [
    " Alternatively, you can use `array_function`."
   ]
  },
  {
   "cell_type": "code",
   "execution_count": 32,
   "id": "6d01dd5f",
   "metadata": {},
   "outputs": [
    {
     "data": {
      "text/plain": [
       "RichArray([9-4+5, < 150], dtype=object)"
      ]
     },
     "execution_count": 32,
     "metadata": {},
     "output_type": "execute_result"
    }
   ],
   "source": [
    "rv.array_function('{}*{}', [u,v], elementwise=True)"
   ]
  },
  {
   "cell_type": "markdown",
   "id": "64e65de9",
   "metadata": {},
   "source": [
    "Lastly, let's see how to create a rich dataframe (based on Pandas dataframes). The easiest way is to convert a dataframe with text strings representing rich values using `rich_dataframe`, but you can also convert dictionaries."
   ]
  },
  {
   "cell_type": "code",
   "execution_count": 34,
   "id": "3da6b665",
   "metadata": {},
   "outputs": [
    {
     "data": {
      "text/html": [
       "<div>\n",
       "<style scoped>\n",
       "    .dataframe tbody tr th:only-of-type {\n",
       "        vertical-align: middle;\n",
       "    }\n",
       "\n",
       "    .dataframe tbody tr th {\n",
       "        vertical-align: top;\n",
       "    }\n",
       "\n",
       "    .dataframe thead th {\n",
       "        text-align: right;\n",
       "    }\n",
       "</style>\n",
       "<table border=\"1\" class=\"dataframe\">\n",
       "  <thead>\n",
       "    <tr style=\"text-align: right;\">\n",
       "      <th></th>\n",
       "      <th>a</th>\n",
       "      <th>b</th>\n",
       "      <th>c</th>\n",
       "    </tr>\n",
       "  </thead>\n",
       "  <tbody>\n",
       "    <tr>\n",
       "      <th>0</th>\n",
       "      <td>2.1+/-0.3</td>\n",
       "      <td>3.4+/-0.4</td>\n",
       "      <td>&lt; 4</td>\n",
       "    </tr>\n",
       "    <tr>\n",
       "      <th>1</th>\n",
       "      <td>5</td>\n",
       "      <td>&lt; 6</td>\n",
       "      <td>8+/-1</td>\n",
       "    </tr>\n",
       "  </tbody>\n",
       "</table>\n",
       "</div>"
      ],
      "text/plain": [
       "           a          b      c\n",
       "0  2.1+/-0.3  3.4+/-0.4    < 4\n",
       "1          5        < 6  8+/-1"
      ]
     },
     "execution_count": 34,
     "metadata": {},
     "output_type": "execute_result"
    }
   ],
   "source": [
    "import numpy as np\n",
    "import pandas as pd\n",
    "dic = {'a': ['2.1+/-0.3','5'], 'b': ['3.4+/-0.4','<6'], 'c': ['<4','8+/-1']}\n",
    "rdf = rv.rich_dataframe(dic, domains=[0,np.inf])\n",
    "rdf"
   ]
  },
  {
   "cell_type": "markdown",
   "id": "8f4a582a",
   "metadata": {},
   "source": [
    "You can access to different properties of the values of the rich dataframe; for example, `rdf.mains` would return a regular dataframe containing the main values of the elements of `rdf`."
   ]
  },
  {
   "cell_type": "code",
   "execution_count": 35,
   "id": "49214e2c",
   "metadata": {},
   "outputs": [
    {
     "data": {
      "text/html": [
       "<div>\n",
       "<style scoped>\n",
       "    .dataframe tbody tr th:only-of-type {\n",
       "        vertical-align: middle;\n",
       "    }\n",
       "\n",
       "    .dataframe tbody tr th {\n",
       "        vertical-align: top;\n",
       "    }\n",
       "\n",
       "    .dataframe thead th {\n",
       "        text-align: right;\n",
       "    }\n",
       "</style>\n",
       "<table border=\"1\" class=\"dataframe\">\n",
       "  <thead>\n",
       "    <tr style=\"text-align: right;\">\n",
       "      <th></th>\n",
       "      <th>a</th>\n",
       "      <th>b</th>\n",
       "      <th>c</th>\n",
       "    </tr>\n",
       "  </thead>\n",
       "  <tbody>\n",
       "    <tr>\n",
       "      <th>0</th>\n",
       "      <td>2.1</td>\n",
       "      <td>3.4</td>\n",
       "      <td>4.0</td>\n",
       "    </tr>\n",
       "    <tr>\n",
       "      <th>1</th>\n",
       "      <td>5.0</td>\n",
       "      <td>6.0</td>\n",
       "      <td>8.0</td>\n",
       "    </tr>\n",
       "  </tbody>\n",
       "</table>\n",
       "</div>"
      ],
      "text/plain": [
       "     a    b    c\n",
       "0  2.1  3.4  4.0\n",
       "1  5.0  6.0  8.0"
      ]
     },
     "execution_count": 35,
     "metadata": {},
     "output_type": "execute_result"
    }
   ],
   "source": [
    "rdf.mains"
   ]
  },
  {
   "cell_type": "markdown",
   "id": "93f8a004",
   "metadata": {},
   "source": [
    " Arithmetic operators can be used with rich dataframes, although for more complicated functions you can use `create_column` and `create_row`."
   ]
  },
  {
   "cell_type": "code",
   "execution_count": 37,
   "id": "0ca18885",
   "metadata": {},
   "outputs": [
    {
     "data": {
      "text/html": [
       "<div>\n",
       "<style scoped>\n",
       "    .dataframe tbody tr th:only-of-type {\n",
       "        vertical-align: middle;\n",
       "    }\n",
       "\n",
       "    .dataframe tbody tr th {\n",
       "        vertical-align: top;\n",
       "    }\n",
       "\n",
       "    .dataframe thead th {\n",
       "        text-align: right;\n",
       "    }\n",
       "</style>\n",
       "<table border=\"1\" class=\"dataframe\">\n",
       "  <thead>\n",
       "    <tr style=\"text-align: right;\">\n",
       "      <th></th>\n",
       "      <th>a</th>\n",
       "      <th>b</th>\n",
       "      <th>c</th>\n",
       "      <th>d</th>\n",
       "    </tr>\n",
       "  </thead>\n",
       "  <tbody>\n",
       "    <tr>\n",
       "      <th>0</th>\n",
       "      <td>2.1+/-0.3</td>\n",
       "      <td>3.4+/-0.4</td>\n",
       "      <td>&lt; 4</td>\n",
       "      <td>0.71-0.15+0.20</td>\n",
       "    </tr>\n",
       "    <tr>\n",
       "      <th>1</th>\n",
       "      <td>5</td>\n",
       "      <td>&lt; 6</td>\n",
       "      <td>8+/-1</td>\n",
       "      <td>1.2-3.1+1.9</td>\n",
       "    </tr>\n",
       "  </tbody>\n",
       "</table>\n",
       "</div>"
      ],
      "text/plain": [
       "           a          b      c               d\n",
       "0  2.1+/-0.3  3.4+/-0.4    < 4  0.71-0.15+0.20\n",
       "1          5        < 6  8+/-1     1.2-3.1+1.9"
      ]
     },
     "execution_count": 37,
     "metadata": {},
     "output_type": "execute_result"
    }
   ],
   "source": [
    "rdf['d'] = rdf.create_column('np.tan({}/{})', ['a','b'])\n",
    "rdf"
   ]
  },
  {
   "cell_type": "markdown",
   "id": "a10fc629",
   "metadata": {},
   "source": [
    "Note that in this case you have to specify the names of the columns involved in the calculation."
   ]
  },
  {
   "cell_type": "markdown",
   "id": "6d20922d",
   "metadata": {},
   "source": [
    "That would be it for this quick tutorial. If you want to learn more, you can read the [user guide](https://github.com/andresmegias/richvalues/blob/main/userguide.pdf) and also check and run the [example scripts](https://github.com/andresmegias/richvalues/tree/main/examples) (`ratio.py` and `linearfit.py`)."
   ]
  },
  {
   "cell_type": "code",
   "execution_count": null,
   "id": "bbea6bed",
   "metadata": {},
   "outputs": [],
   "source": []
  }
 ],
 "metadata": {
  "kernelspec": {
   "display_name": "Python 3",
   "language": "python",
   "name": "python3"
  },
  "language_info": {
   "codemirror_mode": {
    "name": "ipython",
    "version": 3
   },
   "file_extension": ".py",
   "mimetype": "text/x-python",
   "name": "python",
   "nbconvert_exporter": "python",
   "pygments_lexer": "ipython3",
   "version": "3.9.7"
  }
 },
 "nbformat": 4,
 "nbformat_minor": 5
}
